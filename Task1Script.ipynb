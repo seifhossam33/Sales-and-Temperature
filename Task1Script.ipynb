{
 "cells": [
  {
   "cell_type": "markdown",
   "metadata": {},
   "source": [
    "Python Environment: Python, pandas and matplotlib "
   ]
  },
  {
   "cell_type": "code",
   "execution_count": 79,
   "metadata": {},
   "outputs": [],
   "source": [
    "import pandas as pd\n",
    "import matplotlib.pyplot as plt"
   ]
  },
  {
   "cell_type": "markdown",
   "metadata": {},
   "source": [
    "Importing Datasets"
   ]
  },
  {
   "cell_type": "code",
   "execution_count": 80,
   "metadata": {},
   "outputs": [],
   "source": [
    "walmart_df = pd.read_csv('task_walmart_sales_data.csv')\n",
    "\n",
    "global_df = pd.read_csv('task_global_temperature_data.csv')"
   ]
  },
  {
   "cell_type": "markdown",
   "metadata": {},
   "source": [
    "Exploring Dataframes"
   ]
  },
  {
   "cell_type": "code",
   "execution_count": 81,
   "metadata": {},
   "outputs": [
    {
     "data": {
      "text/html": [
       "<div>\n",
       "<style scoped>\n",
       "    .dataframe tbody tr th:only-of-type {\n",
       "        vertical-align: middle;\n",
       "    }\n",
       "\n",
       "    .dataframe tbody tr th {\n",
       "        vertical-align: top;\n",
       "    }\n",
       "\n",
       "    .dataframe thead th {\n",
       "        text-align: right;\n",
       "    }\n",
       "</style>\n",
       "<table border=\"1\" class=\"dataframe\">\n",
       "  <thead>\n",
       "    <tr style=\"text-align: right;\">\n",
       "      <th></th>\n",
       "      <th>Date</th>\n",
       "      <th>Global_Temperature</th>\n",
       "      <th>City</th>\n",
       "      <th>Country</th>\n",
       "    </tr>\n",
       "  </thead>\n",
       "  <tbody>\n",
       "    <tr>\n",
       "      <th>0</th>\n",
       "      <td>2021-09-11</td>\n",
       "      <td>15.559781</td>\n",
       "      <td>london</td>\n",
       "      <td>uk</td>\n",
       "    </tr>\n",
       "    <tr>\n",
       "      <th>1</th>\n",
       "      <td>2021-06-11</td>\n",
       "      <td>36.591283</td>\n",
       "      <td>london</td>\n",
       "      <td>uk</td>\n",
       "    </tr>\n",
       "    <tr>\n",
       "      <th>2</th>\n",
       "      <td>2021-11-23</td>\n",
       "      <td>49.329947</td>\n",
       "      <td>tokyo</td>\n",
       "      <td>JAPAN</td>\n",
       "    </tr>\n",
       "    <tr>\n",
       "      <th>3</th>\n",
       "      <td>2021-02-07</td>\n",
       "      <td>-16.910704</td>\n",
       "      <td>london</td>\n",
       "      <td>UK</td>\n",
       "    </tr>\n",
       "    <tr>\n",
       "      <th>4</th>\n",
       "      <td>2021-07-20</td>\n",
       "      <td>25.342211</td>\n",
       "      <td>NEW YORK</td>\n",
       "      <td>USA</td>\n",
       "    </tr>\n",
       "    <tr>\n",
       "      <th>5</th>\n",
       "      <td>2021-07-19</td>\n",
       "      <td>23.943486</td>\n",
       "      <td>TOKYO</td>\n",
       "      <td>japan</td>\n",
       "    </tr>\n",
       "    <tr>\n",
       "      <th>6</th>\n",
       "      <td>2021-09-12</td>\n",
       "      <td>48.396436</td>\n",
       "      <td>london</td>\n",
       "      <td>UK</td>\n",
       "    </tr>\n",
       "    <tr>\n",
       "      <th>7</th>\n",
       "      <td>2021-06-28</td>\n",
       "      <td>48.848059</td>\n",
       "      <td>NEW YORK</td>\n",
       "      <td>USA</td>\n",
       "    </tr>\n",
       "    <tr>\n",
       "      <th>8</th>\n",
       "      <td>2021-02-04</td>\n",
       "      <td>24.934289</td>\n",
       "      <td>moscow</td>\n",
       "      <td>RUSSIA</td>\n",
       "    </tr>\n",
       "    <tr>\n",
       "      <th>9</th>\n",
       "      <td>2021-03-23</td>\n",
       "      <td>-10.510817</td>\n",
       "      <td>LONDON</td>\n",
       "      <td>UK</td>\n",
       "    </tr>\n",
       "  </tbody>\n",
       "</table>\n",
       "</div>"
      ],
      "text/plain": [
       "         Date  Global_Temperature        City Country\n",
       "0  2021-09-11           15.559781     london       uk\n",
       "1  2021-06-11           36.591283      london      uk\n",
       "2  2021-11-23           49.329947       tokyo   JAPAN\n",
       "3  2021-02-07          -16.910704      london      UK\n",
       "4  2021-07-20           25.342211   NEW YORK      USA\n",
       "5  2021-07-19           23.943486      TOKYO    japan\n",
       "6  2021-09-12           48.396436     london       UK\n",
       "7  2021-06-28           48.848059    NEW YORK     USA\n",
       "8  2021-02-04           24.934289      moscow  RUSSIA\n",
       "9  2021-03-23          -10.510817      LONDON      UK"
      ]
     },
     "execution_count": 81,
     "metadata": {},
     "output_type": "execute_result"
    }
   ],
   "source": [
    "#walmart_df.head(10)\n",
    "global_df.head(10)"
   ]
  },
  {
   "cell_type": "code",
   "execution_count": 82,
   "metadata": {},
   "outputs": [
    {
     "name": "stdout",
     "output_type": "stream",
     "text": [
      "<class 'pandas.core.frame.DataFrame'>\n",
      "RangeIndex: 510 entries, 0 to 509\n",
      "Data columns (total 4 columns):\n",
      " #   Column              Non-Null Count  Dtype  \n",
      "---  ------              --------------  -----  \n",
      " 0   Date                510 non-null    object \n",
      " 1   Global_Temperature  510 non-null    float64\n",
      " 2   City                510 non-null    object \n",
      " 3   Country             510 non-null    object \n",
      "dtypes: float64(1), object(3)\n",
      "memory usage: 16.1+ KB\n"
     ]
    }
   ],
   "source": [
    "#walmart_df.info()\n",
    "global_df.info()"
   ]
  },
  {
   "cell_type": "markdown",
   "metadata": {},
   "source": [
    "Droping Duplicates in Walmart dataset"
   ]
  },
  {
   "cell_type": "code",
   "execution_count": 84,
   "metadata": {},
   "outputs": [],
   "source": [
    "walmart_df.duplicated()\n",
    "walmart_df.drop_duplicates(inplace=True)"
   ]
  },
  {
   "cell_type": "markdown",
   "metadata": {},
   "source": [
    "Droping Duplicates in Global Temprature dataframes"
   ]
  },
  {
   "cell_type": "code",
   "execution_count": 85,
   "metadata": {},
   "outputs": [],
   "source": [
    "global_df.duplicated()   ########## No Duplicates Found in this dataframe\n",
    "global_df.drop_duplicates(inplace=True)"
   ]
  },
  {
   "cell_type": "markdown",
   "metadata": {},
   "source": [
    "Checking Outliers for Sales column in Walmat_df and Global Temprature in Global_df"
   ]
  },
  {
   "cell_type": "code",
   "execution_count": 86,
   "metadata": {},
   "outputs": [
    {
     "data": {
      "text/plain": [
       "count      995.000000\n",
       "mean      5155.085427\n",
       "std       3895.003014\n",
       "min        106.000000\n",
       "25%       2593.500000\n",
       "50%       4896.000000\n",
       "75%       7380.000000\n",
       "max      49777.000000\n",
       "Name: Sales, dtype: float64"
      ]
     },
     "execution_count": 86,
     "metadata": {},
     "output_type": "execute_result"
    }
   ],
   "source": [
    "walmart_df.describe()['Sales']\n",
    "#plt.boxplot(walmart_df['Sales'])\n",
    "#plt.show()\n",
    "#walmart_df['Sales'].hist(bins = 5, range=[0,12000])"
   ]
  },
  {
   "cell_type": "code",
   "execution_count": 87,
   "metadata": {},
   "outputs": [
    {
     "data": {
      "text/plain": [
       "{'whiskers': [<matplotlib.lines.Line2D at 0x1d1e4b36960>,\n",
       "  <matplotlib.lines.Line2D at 0x1d1e4b34920>],\n",
       " 'caps': [<matplotlib.lines.Line2D at 0x1d1e4b359a0>,\n",
       "  <matplotlib.lines.Line2D at 0x1d1e4b35730>],\n",
       " 'boxes': [<matplotlib.lines.Line2D at 0x1d1e4b374d0>],\n",
       " 'medians': [<matplotlib.lines.Line2D at 0x1d1e4b341d0>],\n",
       " 'fliers': [<matplotlib.lines.Line2D at 0x1d1e4b34140>],\n",
       " 'means': []}"
      ]
     },
     "execution_count": 87,
     "metadata": {},
     "output_type": "execute_result"
    },
    {
     "data": {
      "image/png": "[encoded data removed]",
      "text/plain": [
       "<Figure size 640x480 with 1 Axes>"
      ]
     },
     "metadata": {},
     "output_type": "display_data"
    }
   ],
   "source": [
    "#global_df.describe()['Global_Temperature']\n",
    "plt.boxplot(global_df['Global_Temperature'])"
   ]
  },
  {
   "cell_type": "markdown",
   "metadata": {},
   "source": [
    "As Max values in both dataframes are considerably far away from the mean values, Outliers must be handled to not affect our results"
   ]
  },
  {
   "cell_type": "code",
   "execution_count": 88,
   "metadata": {},
   "outputs": [
    {
     "data": {
      "text/html": [
       "<div>\n",
       "<style scoped>\n",
       "    .dataframe tbody tr th:only-of-type {\n",
       "        vertical-align: middle;\n",
       "    }\n",
       "\n",
       "    .dataframe tbody tr th {\n",
       "        vertical-align: top;\n",
       "    }\n",
       "\n",
       "    .dataframe thead th {\n",
       "        text-align: right;\n",
       "    }\n",
       "</style>\n",
       "<table border=\"1\" class=\"dataframe\">\n",
       "  <thead>\n",
       "    <tr style=\"text-align: right;\">\n",
       "      <th></th>\n",
       "      <th>Store</th>\n",
       "      <th>Department</th>\n",
       "      <th>Sales</th>\n",
       "      <th>Quantity</th>\n",
       "    </tr>\n",
       "  </thead>\n",
       "  <tbody>\n",
       "    <tr>\n",
       "      <th>count</th>\n",
       "      <td>1000.000000</td>\n",
       "      <td>1000.00000</td>\n",
       "      <td>995.000000</td>\n",
       "      <td>1000.000000</td>\n",
       "    </tr>\n",
       "    <tr>\n",
       "      <th>mean</th>\n",
       "      <td>5.433000</td>\n",
       "      <td>3.06000</td>\n",
       "      <td>4993.124623</td>\n",
       "      <td>10.420000</td>\n",
       "    </tr>\n",
       "    <tr>\n",
       "      <th>std</th>\n",
       "      <td>2.912042</td>\n",
       "      <td>1.41223</td>\n",
       "      <td>2734.527196</td>\n",
       "      <td>5.341173</td>\n",
       "    </tr>\n",
       "    <tr>\n",
       "      <th>min</th>\n",
       "      <td>1.000000</td>\n",
       "      <td>1.00000</td>\n",
       "      <td>673.100000</td>\n",
       "      <td>1.000000</td>\n",
       "    </tr>\n",
       "    <tr>\n",
       "      <th>25%</th>\n",
       "      <td>3.000000</td>\n",
       "      <td>2.00000</td>\n",
       "      <td>2593.500000</td>\n",
       "      <td>6.000000</td>\n",
       "    </tr>\n",
       "    <tr>\n",
       "      <th>50%</th>\n",
       "      <td>5.000000</td>\n",
       "      <td>3.00000</td>\n",
       "      <td>4896.000000</td>\n",
       "      <td>11.000000</td>\n",
       "    </tr>\n",
       "    <tr>\n",
       "      <th>75%</th>\n",
       "      <td>8.000000</td>\n",
       "      <td>4.00000</td>\n",
       "      <td>7380.000000</td>\n",
       "      <td>15.000000</td>\n",
       "    </tr>\n",
       "    <tr>\n",
       "      <th>max</th>\n",
       "      <td>10.000000</td>\n",
       "      <td>5.00000</td>\n",
       "      <td>9450.100000</td>\n",
       "      <td>19.000000</td>\n",
       "    </tr>\n",
       "  </tbody>\n",
       "</table>\n",
       "</div>"
      ],
      "text/plain": [
       "             Store  Department        Sales     Quantity\n",
       "count  1000.000000  1000.00000   995.000000  1000.000000\n",
       "mean      5.433000     3.06000  4993.124623    10.420000\n",
       "std       2.912042     1.41223  2734.527196     5.341173\n",
       "min       1.000000     1.00000   673.100000     1.000000\n",
       "25%       3.000000     2.00000  2593.500000     6.000000\n",
       "50%       5.000000     3.00000  4896.000000    11.000000\n",
       "75%       8.000000     4.00000  7380.000000    15.000000\n",
       "max      10.000000     5.00000  9450.100000    19.000000"
      ]
     },
     "execution_count": 88,
     "metadata": {},
     "output_type": "execute_result"
    }
   ],
   "source": [
    "#Capping the outliers for Sales column in walmart_df as they will be used in statistical analysis for the same column.\n",
    "def capping_outliers(df, column, q1=0.05, q3=0.95):\n",
    "    q1_val = df[column].quantile(q1)\n",
    "    q3_val = df[column].quantile(q3)\n",
    "\n",
    "    df[column] = df[column].clip(lower=q1_val, upper=q3_val) #setting lower values to q1 and high values to q3\n",
    "\n",
    "    return df\n",
    "\n",
    "\n",
    "walmart_df_capped=capping_outliers(walmart_df.copy(),'Sales') # copying dataframe to not affect the original for later use\n",
    "walmart_df_capped.describe()"
   ]
  },
  {
   "cell_type": "code",
   "execution_count": 89,
   "metadata": {},
   "outputs": [
    {
     "data": {
      "text/plain": [
       "{'whiskers': [<matplotlib.lines.Line2D at 0x1d1e4b8cdd0>,\n",
       "  <matplotlib.lines.Line2D at 0x1d1e4b8d340>],\n",
       " 'caps': [<matplotlib.lines.Line2D at 0x1d1e4b8d730>,\n",
       "  <matplotlib.lines.Line2D at 0x1d1e4b8d850>],\n",
       " 'boxes': [<matplotlib.lines.Line2D at 0x1d1e4b8cc20>],\n",
       " 'medians': [<matplotlib.lines.Line2D at 0x1d1e4b8d910>],\n",
       " 'fliers': [<matplotlib.lines.Line2D at 0x1d1e4b8ddf0>],\n",
       " 'means': []}"
      ]
     },
     "execution_count": 89,
     "metadata": {},
     "output_type": "execute_result"
    },
    {
     "data": {
      "image/png": "[encoded data removed]",
      "text/plain": [
       "<Figure size 640x480 with 1 Axes>"
      ]
     },
     "metadata": {},
     "output_type": "display_data"
    }
   ],
   "source": [
    "#box plotting Sales\n",
    "plt.boxplot(walmart_df_capped['Sales'])"
   ]
  },
  {
   "cell_type": "code",
   "execution_count": 90,
   "metadata": {},
   "outputs": [
    {
     "data": {
      "text/html": [
       "<div>\n",
       "<style scoped>\n",
       "    .dataframe tbody tr th:only-of-type {\n",
       "        vertical-align: middle;\n",
       "    }\n",
       "\n",
       "    .dataframe tbody tr th {\n",
       "        vertical-align: top;\n",
       "    }\n",
       "\n",
       "    .dataframe thead th {\n",
       "        text-align: right;\n",
       "    }\n",
       "</style>\n",
       "<table border=\"1\" class=\"dataframe\">\n",
       "  <thead>\n",
       "    <tr style=\"text-align: right;\">\n",
       "      <th></th>\n",
       "      <th>Global_Temperature</th>\n",
       "    </tr>\n",
       "  </thead>\n",
       "  <tbody>\n",
       "    <tr>\n",
       "      <th>count</th>\n",
       "      <td>509.000000</td>\n",
       "    </tr>\n",
       "    <tr>\n",
       "      <th>mean</th>\n",
       "      <td>10.357822</td>\n",
       "    </tr>\n",
       "    <tr>\n",
       "      <th>std</th>\n",
       "      <td>23.423138</td>\n",
       "    </tr>\n",
       "    <tr>\n",
       "      <th>min</th>\n",
       "      <td>-25.593911</td>\n",
       "    </tr>\n",
       "    <tr>\n",
       "      <th>25%</th>\n",
       "      <td>-10.892387</td>\n",
       "    </tr>\n",
       "    <tr>\n",
       "      <th>50%</th>\n",
       "      <td>9.739474</td>\n",
       "    </tr>\n",
       "    <tr>\n",
       "      <th>75%</th>\n",
       "      <td>32.145709</td>\n",
       "    </tr>\n",
       "    <tr>\n",
       "      <th>max</th>\n",
       "      <td>47.239216</td>\n",
       "    </tr>\n",
       "  </tbody>\n",
       "</table>\n",
       "</div>"
      ],
      "text/plain": [
       "       Global_Temperature\n",
       "count          509.000000\n",
       "mean            10.357822\n",
       "std             23.423138\n",
       "min            -25.593911\n",
       "25%            -10.892387\n",
       "50%              9.739474\n",
       "75%             32.145709\n",
       "max             47.239216"
      ]
     },
     "execution_count": 90,
     "metadata": {},
     "output_type": "execute_result"
    }
   ],
   "source": [
    "#capping the Global Tempereture in global_df\n",
    "\n",
    "global_df_capped = capping_outliers(global_df.copy(),'Global_Temperature')\n",
    "global_df_capped.describe()\n"
   ]
  },
  {
   "cell_type": "code",
   "execution_count": 91,
   "metadata": {},
   "outputs": [
    {
     "data": {
      "text/plain": [
       "{'whiskers': [<matplotlib.lines.Line2D at 0x1d1e4c16ff0>,\n",
       "  <matplotlib.lines.Line2D at 0x1d1e4c172c0>],\n",
       " 'caps': [<matplotlib.lines.Line2D at 0x1d1e4c175c0>,\n",
       "  <matplotlib.lines.Line2D at 0x1d1e4c178c0>],\n",
       " 'boxes': [<matplotlib.lines.Line2D at 0x1d1e4c16d50>],\n",
       " 'medians': [<matplotlib.lines.Line2D at 0x1d1e4c17b60>],\n",
       " 'fliers': [<matplotlib.lines.Line2D at 0x1d1e4c17e30>],\n",
       " 'means': []}"
      ]
     },
     "execution_count": 91,
     "metadata": {},
     "output_type": "execute_result"
    },
    {
     "data": {
      "image/png": "[encoded data removed]",
      "text/plain": [
       "<Figure size 640x480 with 1 Axes>"
      ]
     },
     "metadata": {},
     "output_type": "display_data"
    }
   ],
   "source": [
    "#check box plot for global Temp\n",
    "plt.boxplot(global_df_capped['Global_Temperature'])"
   ]
  },
  {
   "cell_type": "markdown",
   "metadata": {},
   "source": [
    "Inconsistent Casing"
   ]
  },
  {
   "cell_type": "code",
   "execution_count": 92,
   "metadata": {},
   "outputs": [],
   "source": [
    "# Changin case for City and Country columns in global_df to lower case\n",
    "global_df_capped['City'] = global_df_capped['City'].str.lower()\n",
    "global_df_capped['Country'] = global_df_capped['Country'].str.lower()\n",
    "global_df_capped.head(5)\n"
   ]
  },
  {
   "cell_type": "markdown",
   "metadata": {},
   "source": [
    "Removing White spaces"
   ]
  },
  {
   "cell_type": "code",
   "execution_count": 94,
   "metadata": {},
   "outputs": [
    {
     "data": {
      "text/html": [
       "<div>\n",
       "<style scoped>\n",
       "    .dataframe tbody tr th:only-of-type {\n",
       "        vertical-align: middle;\n",
       "    }\n",
       "\n",
       "    .dataframe tbody tr th {\n",
       "        vertical-align: top;\n",
       "    }\n",
       "\n",
       "    .dataframe thead th {\n",
       "        text-align: right;\n",
       "    }\n",
       "</style>\n",
       "<table border=\"1\" class=\"dataframe\">\n",
       "  <thead>\n",
       "    <tr style=\"text-align: right;\">\n",
       "      <th></th>\n",
       "      <th>Date</th>\n",
       "      <th>Global_Temperature</th>\n",
       "      <th>City</th>\n",
       "      <th>Country</th>\n",
       "    </tr>\n",
       "  </thead>\n",
       "  <tbody>\n",
       "    <tr>\n",
       "      <th>0</th>\n",
       "      <td>2021-09-11</td>\n",
       "      <td>15.559781</td>\n",
       "      <td>london</td>\n",
       "      <td>uk</td>\n",
       "    </tr>\n",
       "    <tr>\n",
       "      <th>1</th>\n",
       "      <td>2021-06-11</td>\n",
       "      <td>36.591283</td>\n",
       "      <td>london</td>\n",
       "      <td>uk</td>\n",
       "    </tr>\n",
       "    <tr>\n",
       "      <th>2</th>\n",
       "      <td>2021-11-23</td>\n",
       "      <td>47.239216</td>\n",
       "      <td>tokyo</td>\n",
       "      <td>japan</td>\n",
       "    </tr>\n",
       "    <tr>\n",
       "      <th>3</th>\n",
       "      <td>2021-02-07</td>\n",
       "      <td>-16.910704</td>\n",
       "      <td>london</td>\n",
       "      <td>uk</td>\n",
       "    </tr>\n",
       "    <tr>\n",
       "      <th>4</th>\n",
       "      <td>2021-07-20</td>\n",
       "      <td>25.342211</td>\n",
       "      <td>new york</td>\n",
       "      <td>usa</td>\n",
       "    </tr>\n",
       "    <tr>\n",
       "      <th>...</th>\n",
       "      <td>...</td>\n",
       "      <td>...</td>\n",
       "      <td>...</td>\n",
       "      <td>...</td>\n",
       "    </tr>\n",
       "    <tr>\n",
       "      <th>505</th>\n",
       "      <td>2021-02-11</td>\n",
       "      <td>-23.444925</td>\n",
       "      <td>new york</td>\n",
       "      <td>usa</td>\n",
       "    </tr>\n",
       "    <tr>\n",
       "      <th>506</th>\n",
       "      <td>2021-12-23</td>\n",
       "      <td>4.565383</td>\n",
       "      <td>london</td>\n",
       "      <td>uk</td>\n",
       "    </tr>\n",
       "    <tr>\n",
       "      <th>507</th>\n",
       "      <td>2021-08-05</td>\n",
       "      <td>36.555323</td>\n",
       "      <td>london</td>\n",
       "      <td>uk</td>\n",
       "    </tr>\n",
       "    <tr>\n",
       "      <th>508</th>\n",
       "      <td>2021-01-17</td>\n",
       "      <td>47.239216</td>\n",
       "      <td>sydney</td>\n",
       "      <td>australia</td>\n",
       "    </tr>\n",
       "    <tr>\n",
       "      <th>509</th>\n",
       "      <td>2021-07-20</td>\n",
       "      <td>25.342211</td>\n",
       "      <td>new york</td>\n",
       "      <td>usa</td>\n",
       "    </tr>\n",
       "  </tbody>\n",
       "</table>\n",
       "<p>509 rows × 4 columns</p>\n",
       "</div>"
      ],
      "text/plain": [
       "           Date  Global_Temperature      City    Country\n",
       "0    2021-09-11           15.559781    london         uk\n",
       "1    2021-06-11           36.591283    london         uk\n",
       "2    2021-11-23           47.239216     tokyo      japan\n",
       "3    2021-02-07          -16.910704    london         uk\n",
       "4    2021-07-20           25.342211  new york        usa\n",
       "..          ...                 ...       ...        ...\n",
       "505  2021-02-11          -23.444925  new york        usa\n",
       "506  2021-12-23            4.565383    london         uk\n",
       "507  2021-08-05           36.555323    london         uk\n",
       "508  2021-01-17           47.239216    sydney  australia\n",
       "509  2021-07-20           25.342211  new york        usa\n",
       "\n",
       "[509 rows x 4 columns]"
      ]
     },
     "execution_count": 94,
     "metadata": {},
     "output_type": "execute_result"
    }
   ],
   "source": [
    "global_df_capped['City'] = global_df_capped['City'].str.strip()\n",
    "global_df_capped['Country'] = global_df_capped['Country'].str.strip()\n",
    "global_df_capped"
   ]
  },
  {
   "cell_type": "markdown",
   "metadata": {},
   "source": [
    "Inconsistent Date Formates and Datetime objects"
   ]
  },
  {
   "cell_type": "code",
   "execution_count": 108,
   "metadata": {},
   "outputs": [
    {
     "data": {
      "text/plain": [
       "0     2021-09-11\n",
       "1     2021-06-11\n",
       "2     2021-11-23\n",
       "3     2021-02-07\n",
       "4     2021-07-20\n",
       "         ...    \n",
       "505   2021-02-11\n",
       "506   2021-12-23\n",
       "507   2021-08-05\n",
       "508   2021-01-17\n",
       "509   2021-07-20\n",
       "Name: Date, Length: 509, dtype: datetime64[ns]"
      ]
     },
     "execution_count": 108,
     "metadata": {},
     "output_type": "execute_result"
    }
   ],
   "source": [
    "walmart_df_capped['Date']\n",
    "global_df_capped['Date']\n",
    "\n",
    "walmart_df_capped['Date'] = pd.to_datetime(walmart_df_capped['Date'])\n",
    "global_df_capped['Date'] = pd.to_datetime(global_df_capped['Date'])\n",
    "\n",
    "walmart_df_capped['Date']\n",
    "global_df_capped['Date']\n"
   ]
  },
  {
   "cell_type": "markdown",
   "metadata": {},
   "source": [
    "Sorting rows based on Dates"
   ]
  },
  {
   "cell_type": "code",
   "execution_count": 109,
   "metadata": {},
   "outputs": [],
   "source": [
    "global_df_capped = global_df_capped.sort_values(by='Date')\n",
    "walmart_df_capped = walmart_df_capped.sort_values(by='Date')"
   ]
  },
  {
   "cell_type": "markdown",
   "metadata": {},
   "source": [
    "Extracting Data for particular store and Department"
   ]
  },
  {
   "cell_type": "code",
   "execution_count": 113,
   "metadata": {},
   "outputs": [
    {
     "data": {
      "text/html": [
       "<div>\n",
       "<style scoped>\n",
       "    .dataframe tbody tr th:only-of-type {\n",
       "        vertical-align: middle;\n",
       "    }\n",
       "\n",
       "    .dataframe tbody tr th {\n",
       "        vertical-align: top;\n",
       "    }\n",
       "\n",
       "    .dataframe thead th {\n",
       "        text-align: right;\n",
       "    }\n",
       "</style>\n",
       "<table border=\"1\" class=\"dataframe\">\n",
       "  <thead>\n",
       "    <tr style=\"text-align: right;\">\n",
       "      <th></th>\n",
       "      <th>Date</th>\n",
       "      <th>Store</th>\n",
       "      <th>Department</th>\n",
       "      <th>Sales</th>\n",
       "      <th>Quantity</th>\n",
       "    </tr>\n",
       "  </thead>\n",
       "  <tbody>\n",
       "    <tr>\n",
       "      <th>648</th>\n",
       "      <td>2021-01-01</td>\n",
       "      <td>2</td>\n",
       "      <td>4</td>\n",
       "      <td>8248.0</td>\n",
       "      <td>11</td>\n",
       "    </tr>\n",
       "    <tr>\n",
       "      <th>263</th>\n",
       "      <td>2021-01-02</td>\n",
       "      <td>5</td>\n",
       "      <td>4</td>\n",
       "      <td>5906.0</td>\n",
       "      <td>11</td>\n",
       "    </tr>\n",
       "    <tr>\n",
       "      <th>968</th>\n",
       "      <td>2021-01-04</td>\n",
       "      <td>9</td>\n",
       "      <td>4</td>\n",
       "      <td>7917.0</td>\n",
       "      <td>12</td>\n",
       "    </tr>\n",
       "    <tr>\n",
       "      <th>964</th>\n",
       "      <td>2021-01-06</td>\n",
       "      <td>6</td>\n",
       "      <td>4</td>\n",
       "      <td>7404.0</td>\n",
       "      <td>15</td>\n",
       "    </tr>\n",
       "    <tr>\n",
       "      <th>828</th>\n",
       "      <td>2021-01-08</td>\n",
       "      <td>10</td>\n",
       "      <td>4</td>\n",
       "      <td>2007.0</td>\n",
       "      <td>17</td>\n",
       "    </tr>\n",
       "    <tr>\n",
       "      <th>...</th>\n",
       "      <td>...</td>\n",
       "      <td>...</td>\n",
       "      <td>...</td>\n",
       "      <td>...</td>\n",
       "      <td>...</td>\n",
       "    </tr>\n",
       "    <tr>\n",
       "      <th>540</th>\n",
       "      <td>2021-12-23</td>\n",
       "      <td>3</td>\n",
       "      <td>4</td>\n",
       "      <td>8486.0</td>\n",
       "      <td>4</td>\n",
       "    </tr>\n",
       "    <tr>\n",
       "      <th>745</th>\n",
       "      <td>2021-12-24</td>\n",
       "      <td>7</td>\n",
       "      <td>4</td>\n",
       "      <td>4407.0</td>\n",
       "      <td>8</td>\n",
       "    </tr>\n",
       "    <tr>\n",
       "      <th>180</th>\n",
       "      <td>2021-12-25</td>\n",
       "      <td>8</td>\n",
       "      <td>4</td>\n",
       "      <td>9088.0</td>\n",
       "      <td>3</td>\n",
       "    </tr>\n",
       "    <tr>\n",
       "      <th>251</th>\n",
       "      <td>2021-12-26</td>\n",
       "      <td>4</td>\n",
       "      <td>4</td>\n",
       "      <td>8225.0</td>\n",
       "      <td>9</td>\n",
       "    </tr>\n",
       "    <tr>\n",
       "      <th>630</th>\n",
       "      <td>2021-12-30</td>\n",
       "      <td>10</td>\n",
       "      <td>4</td>\n",
       "      <td>2509.0</td>\n",
       "      <td>19</td>\n",
       "    </tr>\n",
       "  </tbody>\n",
       "</table>\n",
       "<p>231 rows × 5 columns</p>\n",
       "</div>"
      ],
      "text/plain": [
       "          Date  Store  Department   Sales  Quantity\n",
       "648 2021-01-01      2           4  8248.0        11\n",
       "263 2021-01-02      5           4  5906.0        11\n",
       "968 2021-01-04      9           4  7917.0        12\n",
       "964 2021-01-06      6           4  7404.0        15\n",
       "828 2021-01-08     10           4  2007.0        17\n",
       "..         ...    ...         ...     ...       ...\n",
       "540 2021-12-23      3           4  8486.0         4\n",
       "745 2021-12-24      7           4  4407.0         8\n",
       "180 2021-12-25      8           4  9088.0         3\n",
       "251 2021-12-26      4           4  8225.0         9\n",
       "630 2021-12-30     10           4  2509.0        19\n",
       "\n",
       "[231 rows x 5 columns]"
      ]
     },
     "execution_count": 113,
     "metadata": {},
     "output_type": "execute_result"
    }
   ],
   "source": [
    "walmart_store_two = walmart_df_capped[walmart_df_capped['Store']==2]\n",
    "walmart_department_four = walmart_df_capped[walmart_df_capped['Department']==4]"
   ]
  },
  {
   "cell_type": "code",
   "execution_count": 114,
   "metadata": {},
   "outputs": [
    {
     "data": {
      "text/html": [
       "<div>\n",
       "<style scoped>\n",
       "    .dataframe tbody tr th:only-of-type {\n",
       "        vertical-align: middle;\n",
       "    }\n",
       "\n",
       "    .dataframe tbody tr th {\n",
       "        vertical-align: top;\n",
       "    }\n",
       "\n",
       "    .dataframe thead th {\n",
       "        text-align: right;\n",
       "    }\n",
       "</style>\n",
       "<table border=\"1\" class=\"dataframe\">\n",
       "  <thead>\n",
       "    <tr style=\"text-align: right;\">\n",
       "      <th></th>\n",
       "      <th>Date</th>\n",
       "      <th>Store</th>\n",
       "      <th>Department</th>\n",
       "      <th>Sales</th>\n",
       "      <th>Quantity</th>\n",
       "    </tr>\n",
       "  </thead>\n",
       "  <tbody>\n",
       "    <tr>\n",
       "      <th>648</th>\n",
       "      <td>2021-01-01</td>\n",
       "      <td>2</td>\n",
       "      <td>4</td>\n",
       "      <td>8248.0</td>\n",
       "      <td>11</td>\n",
       "    </tr>\n",
       "    <tr>\n",
       "      <th>895</th>\n",
       "      <td>2021-01-03</td>\n",
       "      <td>2</td>\n",
       "      <td>1</td>\n",
       "      <td>7946.0</td>\n",
       "      <td>10</td>\n",
       "    </tr>\n",
       "    <tr>\n",
       "      <th>894</th>\n",
       "      <td>2021-01-07</td>\n",
       "      <td>2</td>\n",
       "      <td>2</td>\n",
       "      <td>2706.0</td>\n",
       "      <td>5</td>\n",
       "    </tr>\n",
       "    <tr>\n",
       "      <th>484</th>\n",
       "      <td>2021-01-10</td>\n",
       "      <td>2</td>\n",
       "      <td>1</td>\n",
       "      <td>7580.0</td>\n",
       "      <td>14</td>\n",
       "    </tr>\n",
       "    <tr>\n",
       "      <th>554</th>\n",
       "      <td>2021-01-13</td>\n",
       "      <td>2</td>\n",
       "      <td>2</td>\n",
       "      <td>6783.0</td>\n",
       "      <td>6</td>\n",
       "    </tr>\n",
       "    <tr>\n",
       "      <th>566</th>\n",
       "      <td>2021-01-19</td>\n",
       "      <td>2</td>\n",
       "      <td>3</td>\n",
       "      <td>5202.0</td>\n",
       "      <td>13</td>\n",
       "    </tr>\n",
       "    <tr>\n",
       "      <th>636</th>\n",
       "      <td>2021-01-19</td>\n",
       "      <td>2</td>\n",
       "      <td>4</td>\n",
       "      <td>3767.0</td>\n",
       "      <td>8</td>\n",
       "    </tr>\n",
       "    <tr>\n",
       "      <th>375</th>\n",
       "      <td>2021-01-26</td>\n",
       "      <td>2</td>\n",
       "      <td>4</td>\n",
       "      <td>5675.0</td>\n",
       "      <td>6</td>\n",
       "    </tr>\n",
       "    <tr>\n",
       "      <th>814</th>\n",
       "      <td>2021-02-03</td>\n",
       "      <td>2</td>\n",
       "      <td>2</td>\n",
       "      <td>673.1</td>\n",
       "      <td>18</td>\n",
       "    </tr>\n",
       "    <tr>\n",
       "      <th>761</th>\n",
       "      <td>2021-02-03</td>\n",
       "      <td>2</td>\n",
       "      <td>5</td>\n",
       "      <td>7452.0</td>\n",
       "      <td>12</td>\n",
       "    </tr>\n",
       "  </tbody>\n",
       "</table>\n",
       "</div>"
      ],
      "text/plain": [
       "          Date  Store  Department   Sales  Quantity\n",
       "648 2021-01-01      2           4  8248.0        11\n",
       "895 2021-01-03      2           1  7946.0        10\n",
       "894 2021-01-07      2           2  2706.0         5\n",
       "484 2021-01-10      2           1  7580.0        14\n",
       "554 2021-01-13      2           2  6783.0         6\n",
       "566 2021-01-19      2           3  5202.0        13\n",
       "636 2021-01-19      2           4  3767.0         8\n",
       "375 2021-01-26      2           4  5675.0         6\n",
       "814 2021-02-03      2           2   673.1        18\n",
       "761 2021-02-03      2           5  7452.0        12"
      ]
     },
     "execution_count": 114,
     "metadata": {},
     "output_type": "execute_result"
    }
   ],
   "source": [
    "#checking new extractions\n",
    "walmart_department_four.head(10)\n",
    "walmart_store_two.head(10)"
   ]
  },
  {
   "cell_type": "markdown",
   "metadata": {},
   "source": [
    "Adding new Revenue Column"
   ]
  },
  {
   "cell_type": "code",
   "execution_count": 115,
   "metadata": {},
   "outputs": [],
   "source": [
    "walmart_df_capped['Revenue'] = walmart_df_capped['Quantity'] * walmart_df_capped['Sales']"
   ]
  },
  {
   "cell_type": "code",
   "execution_count": 117,
   "metadata": {},
   "outputs": [
    {
     "data": {
      "text/html": [
       "<div>\n",
       "<style scoped>\n",
       "    .dataframe tbody tr th:only-of-type {\n",
       "        vertical-align: middle;\n",
       "    }\n",
       "\n",
       "    .dataframe tbody tr th {\n",
       "        vertical-align: top;\n",
       "    }\n",
       "\n",
       "    .dataframe thead th {\n",
       "        text-align: right;\n",
       "    }\n",
       "</style>\n",
       "<table border=\"1\" class=\"dataframe\">\n",
       "  <thead>\n",
       "    <tr style=\"text-align: right;\">\n",
       "      <th></th>\n",
       "      <th>Date</th>\n",
       "      <th>Store</th>\n",
       "      <th>Department</th>\n",
       "      <th>Sales</th>\n",
       "      <th>Quantity</th>\n",
       "      <th>Revenue</th>\n",
       "    </tr>\n",
       "  </thead>\n",
       "  <tbody>\n",
       "    <tr>\n",
       "      <th>848</th>\n",
       "      <td>2021-01-01</td>\n",
       "      <td>6</td>\n",
       "      <td>3</td>\n",
       "      <td>1955.0</td>\n",
       "      <td>15</td>\n",
       "      <td>29325.0</td>\n",
       "    </tr>\n",
       "    <tr>\n",
       "      <th>677</th>\n",
       "      <td>2021-01-01</td>\n",
       "      <td>9</td>\n",
       "      <td>3</td>\n",
       "      <td>3796.0</td>\n",
       "      <td>10</td>\n",
       "      <td>37960.0</td>\n",
       "    </tr>\n",
       "    <tr>\n",
       "      <th>648</th>\n",
       "      <td>2021-01-01</td>\n",
       "      <td>2</td>\n",
       "      <td>4</td>\n",
       "      <td>8248.0</td>\n",
       "      <td>11</td>\n",
       "      <td>90728.0</td>\n",
       "    </tr>\n",
       "    <tr>\n",
       "      <th>755</th>\n",
       "      <td>2021-01-01</td>\n",
       "      <td>6</td>\n",
       "      <td>2</td>\n",
       "      <td>1949.0</td>\n",
       "      <td>2</td>\n",
       "      <td>3898.0</td>\n",
       "    </tr>\n",
       "    <tr>\n",
       "      <th>991</th>\n",
       "      <td>2021-01-01</td>\n",
       "      <td>10</td>\n",
       "      <td>3</td>\n",
       "      <td>9356.0</td>\n",
       "      <td>5</td>\n",
       "      <td>46780.0</td>\n",
       "    </tr>\n",
       "    <tr>\n",
       "      <th>446</th>\n",
       "      <td>2021-01-01</td>\n",
       "      <td>5</td>\n",
       "      <td>1</td>\n",
       "      <td>9315.0</td>\n",
       "      <td>17</td>\n",
       "      <td>158355.0</td>\n",
       "    </tr>\n",
       "    <tr>\n",
       "      <th>206</th>\n",
       "      <td>2021-01-02</td>\n",
       "      <td>3</td>\n",
       "      <td>2</td>\n",
       "      <td>3556.0</td>\n",
       "      <td>16</td>\n",
       "      <td>56896.0</td>\n",
       "    </tr>\n",
       "    <tr>\n",
       "      <th>263</th>\n",
       "      <td>2021-01-02</td>\n",
       "      <td>5</td>\n",
       "      <td>4</td>\n",
       "      <td>5906.0</td>\n",
       "      <td>11</td>\n",
       "      <td>64966.0</td>\n",
       "    </tr>\n",
       "    <tr>\n",
       "      <th>63</th>\n",
       "      <td>2021-01-02</td>\n",
       "      <td>8</td>\n",
       "      <td>2</td>\n",
       "      <td>1035.0</td>\n",
       "      <td>1</td>\n",
       "      <td>1035.0</td>\n",
       "    </tr>\n",
       "    <tr>\n",
       "      <th>895</th>\n",
       "      <td>2021-01-03</td>\n",
       "      <td>2</td>\n",
       "      <td>1</td>\n",
       "      <td>7946.0</td>\n",
       "      <td>10</td>\n",
       "      <td>79460.0</td>\n",
       "    </tr>\n",
       "  </tbody>\n",
       "</table>\n",
       "</div>"
      ],
      "text/plain": [
       "          Date  Store  Department   Sales  Quantity   Revenue\n",
       "848 2021-01-01      6           3  1955.0        15   29325.0\n",
       "677 2021-01-01      9           3  3796.0        10   37960.0\n",
       "648 2021-01-01      2           4  8248.0        11   90728.0\n",
       "755 2021-01-01      6           2  1949.0         2    3898.0\n",
       "991 2021-01-01     10           3  9356.0         5   46780.0\n",
       "446 2021-01-01      5           1  9315.0        17  158355.0\n",
       "206 2021-01-02      3           2  3556.0        16   56896.0\n",
       "263 2021-01-02      5           4  5906.0        11   64966.0\n",
       "63  2021-01-02      8           2  1035.0         1    1035.0\n",
       "895 2021-01-03      2           1  7946.0        10   79460.0"
      ]
     },
     "execution_count": 117,
     "metadata": {},
     "output_type": "execute_result"
    }
   ],
   "source": [
    "walmart_df_capped.head(10)"
   ]
  }
 ],
 "metadata": {
  "kernelspec": {
   "display_name": "Python 3",
   "language": "python",
   "name": "python3"
  },
  "language_info": {
   "codemirror_mode": {
    "name": "ipython",
    "version": 3
   },
   "file_extension": ".py",
   "mimetype": "text/x-python",
   "name": "python",
   "nbconvert_exporter": "python",
   "pygments_lexer": "ipython3",
   "version": "3.12.2"
  }
 },
 "nbformat": 4,
 "nbformat_minor": 2
}
